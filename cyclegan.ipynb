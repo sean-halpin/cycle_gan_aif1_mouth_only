{
  "nbformat": 4,
  "nbformat_minor": 0,
  "metadata": {
    "accelerator": "GPU",
    "colab": {
      "name": "cyclegan.ipynb",
      "provenance": [],
      "collapsed_sections": [],
      "toc_visible": true,
      "include_colab_link": true
    },
    "kernelspec": {
      "display_name": "Python 3",
      "name": "python3"
    }
  },
  "cells": [
    {
      "cell_type": "markdown",
      "metadata": {
        "id": "view-in-github",
        "colab_type": "text"
      },
      "source": [
        "<a href=\"https://colab.research.google.com/github/sean-halpin/cycle_gan_aif1_mouth_only/blob/cyclegan_from_serialized_model/cyclegan.ipynb\" target=\"_parent\"><img src=\"https://colab.research.google.com/assets/colab-badge.svg\" alt=\"Open In Colab\"/></a>"
      ]
    },
    {
      "cell_type": "markdown",
      "metadata": {
        "id": "01ukWq9KVr74"
      },
      "source": [
        "# Download Dataset\n"
      ]
    },
    {
      "cell_type": "code",
      "metadata": {
        "id": "Lq1S9lbvVvkM"
      },
      "source": [
        "import urllib.request\n",
        "url = \"https://inc.ucsd.edu/mplab/databases/GENKI-R2009a.zip\"\n",
        "file_name = \"GENKI.zip\"\n",
        "urllib.request.urlretrieve(url, file_name)\n",
        "\n",
        "\n",
        "import io, zipfile\n",
        "archive = zipfile.ZipFile('GENKI.zip', 'r')\n",
        "archive.extractall(\"dataset/\")\n",
        "\n",
        "import pandas as pd \n",
        "data = pd.read_csv(\n",
        "    \"dataset/GENKI-R2009a/Subsets/GENKI-4K/GENKI-4K_Labels.txt\", \n",
        "    sep=\" \", \n",
        "    header=None, \n",
        "    names=[\"smile\", \"pitch\",\"yaw\",\"roll\"],\n",
        "    index_col=None\n",
        ")\n",
        "\n",
        "image_symlink_location = \"dataset/GENKI-R2009a/Subsets/GENKI-4K/files/\"\n",
        "\n",
        "df1 = data\n",
        "df1['index_col'] = df1.index\n",
        "df1['image'] = df1.apply(lambda x: image_symlink_location + \"file\" + str(int(x['index_col'] + 1)).zfill(4) + \".jpg\", axis=1)\n",
        "pd.set_option('display.max_columns', None)\n",
        "pd.set_option('max_colwidth', None)"
      ],
      "execution_count": null,
      "outputs": []
    },
    {
      "cell_type": "code",
      "metadata": {
        "id": "-N-U-qqwWOWz"
      },
      "source": [
        "from matplotlib import pyplot as plt\n",
        "import cv2\n",
        "\n",
        "smiles = df1.loc[df1['smile'] == 1]\n",
        "neutral = df1.loc[df1['smile'] == 0]"
      ],
      "execution_count": null,
      "outputs": []
    },
    {
      "cell_type": "markdown",
      "metadata": {
        "id": "Ic14e3OwXzxb"
      },
      "source": [
        "# Import Libraries for running model"
      ]
    },
    {
      "cell_type": "code",
      "metadata": {
        "id": "YijeT80_EHB2"
      },
      "source": [
        "!pip install tensorflow_addons"
      ],
      "execution_count": null,
      "outputs": []
    },
    {
      "cell_type": "code",
      "metadata": {
        "id": "nopdeUQQYo-y"
      },
      "source": [
        "# Imports\n",
        "import tensorflow as tf\n",
        "\n",
        "from tensorflow import keras\n",
        "from tensorflow.keras import layers\n",
        "import tensorflow_addons as tfa\n",
        "\n",
        "import matplotlib.pyplot as plt\n",
        "import numpy as np\n",
        "import matplotlib.image as mpimg\n",
        "print(tf.__version__)\n",
        "\n",
        "from tensorflow.compat.v1 import ConfigProto\n",
        "from tensorflow.compat.v1 import InteractiveSession\n",
        "config = ConfigProto()\n",
        "config.gpu_options.allow_growth = True\n",
        "\n",
        "session = InteractiveSession(config=config)"
      ],
      "execution_count": null,
      "outputs": []
    },
    {
      "cell_type": "code",
      "metadata": {
        "id": "qdLapO1-Yo-z"
      },
      "source": [
        "image_x = 128\n",
        "image_y = 64\n",
        "IMAGE_SIZE = [image_y, image_x]\n"
      ],
      "execution_count": null,
      "outputs": []
    },
    {
      "cell_type": "markdown",
      "metadata": {
        "id": "wMc8gkVqEyS-"
      },
      "source": [
        "# Helper Functions"
      ]
    },
    {
      "cell_type": "code",
      "metadata": {
        "id": "y03bLhRKj41a"
      },
      "source": [
        "def printSmileFaces(epoch=0,num=5):\n",
        "  _, ax = plt.subplots(num, 2, figsize=(12, 16))\n",
        "  for i, img in enumerate(neutral_ds.take(num)):\n",
        "      prediction = smile_generator(img, training=False)[0].numpy()\n",
        "      prediction = (prediction * 127.5 + 127.5).astype(np.uint8)\n",
        "      img = (img[0] * 127.5 + 127.5).numpy().astype(np.uint8)\n",
        "\n",
        "      ax[i, 0].imshow(img)\n",
        "      ax[i, 1].imshow(prediction)\n",
        "      ax[i, 0].set_title(\"Input Photo\")\n",
        "      ax[i, 1].set_title(\"Generated Smile Photo\")\n",
        "      ax[i, 0].axis(\"off\")\n",
        "      ax[i, 1].axis(\"off\")\n",
        "  plt.show()\n",
        "  "
      ],
      "execution_count": null,
      "outputs": []
    },
    {
      "cell_type": "code",
      "metadata": {
        "id": "HOn3z4GhYo-8"
      },
      "source": [
        "def printNeutralFaces(epoch=0, num=5):\n",
        "  _, ax = plt.subplots(num, 2, figsize=(12, 16))\n",
        "  for i, img in enumerate(smile_ds.take(num)):\n",
        "      prediction = neutral_generator(img, training=False)[0].numpy()\n",
        "      prediction = (prediction * 127.5 + 127.5).astype(np.uint8)\n",
        "      img = (img[0] * 127.5 + 127.5).numpy().astype(np.uint8)\n",
        "\n",
        "      ax[i, 0].imshow(img)\n",
        "      ax[i, 1].imshow(prediction)\n",
        "      ax[i, 0].set_title(\"Input Photo\")\n",
        "      ax[i, 1].set_title(\"Generated Nuetral Photo\")\n",
        "      ax[i, 0].axis(\"off\")\n",
        "      ax[i, 1].axis(\"off\")\n",
        "  plt.show()\n",
        "  "
      ],
      "execution_count": null,
      "outputs": []
    },
    {
      "cell_type": "code",
      "metadata": {
        "id": "pk7Hnu3pgj6w"
      },
      "source": [
        "!mkdir -p sample_ouputs_smiling\n",
        "!mkdir -p sample_ouputs_neutral"
      ],
      "execution_count": null,
      "outputs": []
    },
    {
      "cell_type": "code",
      "metadata": {
        "id": "ueRKdpNvFD3T"
      },
      "source": [
        "from PIL import Image\n",
        "def predict(model, input):\n",
        "    input = tf.reshape(tf.keras.preprocessing.image.img_to_array(input), [*IMAGE_SIZE, 3])\n",
        "    input = (tf.cast(input, tf.float32) / 127.5) - 1\n",
        "    input = tf.expand_dims(input,axis=0)\n",
        "    prediction = model(input, training=False)[0].numpy()\n",
        "    prediction = (prediction * 127.5 + 127.5).astype(np.uint8)\n",
        "    return prediction\n",
        "\n",
        "def run_model(model, out_dir, image_path,ind_col,iterations=1,save_plot=False):\n",
        "  img = cv2.imread(image_path)\n",
        "  rgb_img = cv2.cvtColor(img, cv2.COLOR_BGR2RGB)\n",
        "  gray = cv2.cvtColor(img, cv2.COLOR_BGR2GRAY)\n",
        "  plt.subplot(121)\n",
        "  plt.imshow(rgb_img)\n",
        "  plt.title(\"Input\")\n",
        "  # Load the face detect haar cascade\n",
        "  face_cascade = cv2.CascadeClassifier(cv2.data.haarcascades + 'haarcascade_frontalface_default.xml')\n",
        "  # Detect faces\n",
        "  faces = face_cascade.detectMultiScale(gray, 1.1, 4)\n",
        "    \n",
        "  # Draw rectangle around the faces and crop the faces\n",
        "  found_face_already = False\n",
        "  for (x, y, w, h) in faces:\n",
        "    if found_face_already:\n",
        "      break\n",
        "    found_face_already = True\n",
        "    mouth = rgb_img[y + int(h/2):y + h, x:x + w]\n",
        "    orig_y,orig_x,d = mouth.shape\n",
        "    resized_mouth = Image.fromarray(mouth).resize((image_x,image_y))\n",
        "    # predict smile\n",
        "    inp = resized_mouth\n",
        "    for it in range(iterations):\n",
        "      prediction=predict(model, inp)\n",
        "      inp = prediction\n",
        "    # Resize to original \n",
        "    resized_prediction = Image.fromarray(prediction).resize((orig_x,orig_y))\n",
        "    # Add generated mouth back to original image\n",
        "    gen_mouth = np.array(resized_prediction)\n",
        "    overlay=cv2.addWeighted(rgb_img[y + int(h/2):y + h, x:x + w],0.25,gen_mouth,0.75,0)\n",
        "    rgb_img[y + int(h/2):y + h, x:x + w] = overlay\n",
        "    # Denoise\n",
        "    denoise = cv2.fastNlMeansDenoisingColored(rgb_img,None,3,3,11,29)\n",
        "    plt.subplot(122)\n",
        "    plt.imshow(denoise)\n",
        "    plt.title(\"Generated\")\n",
        "    plt.savefig(out_dir + \"/input_output_\"+str(ind_col)+\".png\")\n",
        "    plt.show()\n",
        "\n",
        "def make_smile(skip, take, save_plot):\n",
        "  for i,row in neutral[skip:skip+take].iterrows():\n",
        "      run_model(smile_generator, \"sample_ouputs_smiling\", row.image,row.index_col,1, save_plot)\n",
        "\n",
        "def make_neutral(skip, take, save_plot):\n",
        "  for i,row in smiles[skip:skip+take].iterrows():\n",
        "      run_model(neutral_generator, \"sample_ouputs_neutral\", row.image,row.index_col,1, save_plot)"
      ],
      "execution_count": null,
      "outputs": []
    },
    {
      "cell_type": "markdown",
      "metadata": {
        "id": "stOdXL0g2_Vf"
      },
      "source": [
        "# Load Model from File"
      ]
    },
    {
      "cell_type": "markdown",
      "metadata": {
        "id": "sFTMJR1TkRnK"
      },
      "source": [
        "There is a prerequisite here that you have run trained the model and saved a model to your google drive. \n",
        "\n",
        "Train the model using the main or data_augmentation branch from the repo: https://github.com/sean-halpin/cycle_gan_aif1_mouth_only"
      ]
    },
    {
      "cell_type": "code",
      "metadata": {
        "id": "zy_7O80yx2Gr"
      },
      "source": [
        "from keras.models import load_model\n",
        "smile_generator = load_model(\"drive/MyDrive/smile_04_14_2021_18_12_06.h5\")\n",
        "neutral_generator = load_model(\"drive/MyDrive/neutral_04_14_2021_18_12_06.h5\")"
      ],
      "execution_count": null,
      "outputs": []
    },
    {
      "cell_type": "markdown",
      "metadata": {
        "id": "1ETMlY4mKogY"
      },
      "source": [
        "# Generate Model Output"
      ]
    },
    {
      "cell_type": "code",
      "metadata": {
        "id": "T6an6WoaXqwR"
      },
      "source": [
        "# First param is an index into the dataset, second param is how many faces to generate smile predictions for. \n",
        "make_smile(skip=1000,take=1,save_plot=True)"
      ],
      "execution_count": null,
      "outputs": []
    },
    {
      "cell_type": "code",
      "metadata": {
        "id": "Jc5u-40iiU-j"
      },
      "source": [
        "import shutil\n",
        "shutil.make_archive(\"sample_output_smiles\", 'zip', \"sample_ouputs_smiling\")"
      ],
      "execution_count": null,
      "outputs": []
    },
    {
      "cell_type": "code",
      "metadata": {
        "id": "zwaEgnNQlOMn"
      },
      "source": [
        "make_neutral(skip=1000,take=1,save_plot=True)"
      ],
      "execution_count": null,
      "outputs": []
    },
    {
      "cell_type": "code",
      "metadata": {
        "id": "VrWloDAplTWC"
      },
      "source": [
        "shutil.make_archive(\"sample_output_neutrals\", 'zip', \"sample_ouputs_neutral\")"
      ],
      "execution_count": null,
      "outputs": []
    },
    {
      "cell_type": "markdown",
      "metadata": {
        "id": "NXBl81IODB5k"
      },
      "source": [
        "# Demonstration with Upload"
      ]
    },
    {
      "cell_type": "code",
      "metadata": {
        "id": "n9c5GtEUB7L7"
      },
      "source": [
        "from google.colab import files\n",
        "uploaded = files.upload()"
      ],
      "execution_count": null,
      "outputs": []
    },
    {
      "cell_type": "code",
      "metadata": {
        "id": "J-Cj8BfpDEFa"
      },
      "source": [
        "for f in uploaded: \n",
        "  print(f)\n",
        "  run_smile_model(f,1)"
      ],
      "execution_count": null,
      "outputs": []
    },
    {
      "cell_type": "code",
      "metadata": {
        "id": "zSXHCbBKdbDW"
      },
      "source": [
        ""
      ],
      "execution_count": null,
      "outputs": []
    }
  ]
}